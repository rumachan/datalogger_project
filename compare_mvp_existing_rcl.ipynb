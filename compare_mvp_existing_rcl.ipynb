{
 "cells": [
  {
   "cell_type": "code",
   "execution_count": null,
   "metadata": {},
   "outputs": [],
   "source": [
    "%%javascript\n",
    "IPython.OutputArea.prototype._should_scroll = function(lines) {\n",
    "    return false;\n",
    "}"
   ]
  },
  {
   "cell_type": "markdown",
   "metadata": {},
   "source": [
    "Compare values from the new with the existing logger - Ruapehu Crater Lake\n",
    "--\n",
    "\n",
    "Data from the new logger is on local disk.\n",
    "\n",
    "Data from the existing logger is retrieved from FITS"
   ]
  },
  {
   "cell_type": "code",
   "execution_count": null,
   "metadata": {
    "collapsed": true
   },
   "outputs": [],
   "source": [
    "import pandas as pd\n",
    "import numpy as np\n",
    "%matplotlib inline"
   ]
  },
  {
   "cell_type": "markdown",
   "metadata": {},
   "source": [
    "**Data files**"
   ]
  },
  {
   "cell_type": "code",
   "execution_count": null,
   "metadata": {
    "collapsed": true
   },
   "outputs": [],
   "source": [
    "newfile = 'Table1.csv'\n",
    "dtstart = '2018-05-04T04:00:00'"
   ]
  },
  {
   "cell_type": "markdown",
   "metadata": {},
   "source": [
    "**Read new data**"
   ]
  },
  {
   "cell_type": "code",
   "execution_count": null,
   "metadata": {
    "collapsed": true
   },
   "outputs": [],
   "source": [
    "df = pd.read_csv(newfile, parse_dates=True, index_col = 'Datetime')\n",
    "#Use only data after logger was installed\n",
    "new = df[df.index>=dtstart]"
   ]
  },
  {
   "cell_type": "code",
   "execution_count": null,
   "metadata": {
    "scrolled": false
   },
   "outputs": [],
   "source": [
    "new.tail()"
   ]
  },
  {
   "cell_type": "markdown",
   "metadata": {},
   "source": [
    "**Get recent existing data - temperature**"
   ]
  },
  {
   "cell_type": "code",
   "execution_count": null,
   "metadata": {
    "collapsed": true
   },
   "outputs": [],
   "source": [
    "#existing\n",
    "url = 'https://fits.geonet.org.nz/observation?siteID=RU001&typeID=t&days=100&methodID=logic'\n",
    "texist = pd.read_csv(url, parse_dates=['date-time'], index_col=['date-time'], usecols = ['date-time', ' t (C)'])\n",
    "texist.rename(columns={' t (C)':'temp'}, inplace=True)"
   ]
  },
  {
   "cell_type": "markdown",
   "metadata": {},
   "source": [
    "**Get recent existing data - depth**"
   ]
  },
  {
   "cell_type": "code",
   "execution_count": null,
   "metadata": {
    "collapsed": true
   },
   "outputs": [],
   "source": [
    "#existing\n",
    "url = 'https://fits.geonet.org.nz/observation?siteID=RU001A&typeID=z&days=100'\n",
    "dexist = pd.read_csv(url, parse_dates=['date-time'], index_col=['date-time'], usecols = ['date-time', ' z (m)'])\n",
    "dexist.rename(columns={' z (m)':'depth'}, inplace=True)"
   ]
  },
  {
   "cell_type": "markdown",
   "metadata": {},
   "source": [
    "**Set date-time range**"
   ]
  },
  {
   "cell_type": "code",
   "execution_count": null,
   "metadata": {
    "collapsed": true
   },
   "outputs": [],
   "source": [
    "texist1 = texist[texist.index>=dtstart]\n",
    "dexist1 = dexist[dexist.index>=dtstart]"
   ]
  },
  {
   "cell_type": "markdown",
   "metadata": {},
   "source": [
    "**Temperature**"
   ]
  },
  {
   "cell_type": "code",
   "execution_count": null,
   "metadata": {
    "scrolled": true
   },
   "outputs": [],
   "source": [
    "#difference between new and existing\n",
    "diff = new['Temp_PRT_degC'] - texist1['temp']\n",
    "\n",
    "#plot\n",
    "tmp = new['Temp_PRT_degC'].plot(figsize=(20,7), title='Temperature', label='new data', fontsize=12)\n",
    "texist1['temp'].plot(ax=tmp, marker='o', label='existing data')\n",
    "offset = pd.DataFrame()\n",
    "offset['temp'] = texist1['temp'] + diff.mean()\n",
    "offset['temp'].plot(ax=tmp, linestyle='--', label='existing, offset corrected')\n",
    "tmp.title.set_size(20)\n",
    "tmp.grid()\n",
    "tmp.set_ylabel(\"Ruapehu Crater Lake - Temperature (deg C)\")\n",
    "tmp.set_ylim(ymin=18, ymax=28)\n",
    "tmp.legend(loc='best')"
   ]
  },
  {
   "cell_type": "code",
   "execution_count": null,
   "metadata": {
    "collapsed": true
   },
   "outputs": [],
   "source": [
    "fig = tmp.get_figure()\n",
    "fig.savefig('temperature_compare.png', dpi=100)"
   ]
  },
  {
   "cell_type": "markdown",
   "metadata": {},
   "source": [
    "**Temperature differences as a histogram**"
   ]
  },
  {
   "cell_type": "code",
   "execution_count": null,
   "metadata": {},
   "outputs": [],
   "source": [
    "bins = np.arange(diff.min(), diff.max(), 0.1)\n",
    "h = diff.hist(bins=bins)"
   ]
  },
  {
   "cell_type": "markdown",
   "metadata": {},
   "source": [
    "**Depth**"
   ]
  },
  {
   "cell_type": "code",
   "execution_count": null,
   "metadata": {},
   "outputs": [],
   "source": [
    "#difference between new and existing\n",
    "diff = new['Depth_USGS_OTT_meters'] - dexist1['depth']\n",
    "\n",
    "#plot\n",
    "dep = new['Depth_USGS_OTT_meters'].plot(figsize=(20,7), title='Ruapehu Crater Lake - Water Depth Above Sensor',fontsize=12, label='new data')\n",
    "offset = pd.DataFrame()\n",
    "offset['depth'] = dexist1['depth'] + diff.mean()\n",
    "offset['depth'].plot(ax=dep, marker='o', label='existing, offset corrected')\n",
    "dep.title.set_size(20)\n",
    "dep.grid()\n",
    "dep.set_ylabel(\"Depth (m)\")\n",
    "dep.legend(loc='best')"
   ]
  },
  {
   "cell_type": "code",
   "execution_count": null,
   "metadata": {
    "collapsed": true
   },
   "outputs": [],
   "source": [
    "fig = dep.get_figure()\n",
    "fig.savefig('depth_compare.png', dpi=100)"
   ]
  },
  {
   "cell_type": "markdown",
   "metadata": {},
   "source": [
    "**Depth difference**"
   ]
  },
  {
   "cell_type": "code",
   "execution_count": null,
   "metadata": {
    "scrolled": true
   },
   "outputs": [],
   "source": [
    "dd = diff.plot(figsize=(20,7), title='Ruapehu Crater Lake - Depth Difference Between Sensors',fontsize=12, marker='o')\n",
    "dd.set_ylabel('New Depth - Existing Depth (m)')"
   ]
  },
  {
   "cell_type": "code",
   "execution_count": null,
   "metadata": {},
   "outputs": [],
   "source": [
    "diff.describe()"
   ]
  }
 ],
 "metadata": {
  "kernelspec": {
   "display_name": "Python 2",
   "language": "python",
   "name": "python2"
  },
  "language_info": {
   "codemirror_mode": {
    "name": "ipython",
    "version": 2
   },
   "file_extension": ".py",
   "mimetype": "text/x-python",
   "name": "python",
   "nbconvert_exporter": "python",
   "pygments_lexer": "ipython2",
   "version": "2.7.12"
  }
 },
 "nbformat": 4,
 "nbformat_minor": 2
}
