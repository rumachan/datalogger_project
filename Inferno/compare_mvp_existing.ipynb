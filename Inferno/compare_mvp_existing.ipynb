{
 "cells": [
  {
   "cell_type": "code",
   "execution_count": null,
   "metadata": {},
   "outputs": [],
   "source": [
    "%%javascript\n",
    "IPython.OutputArea.prototype._should_scroll = function(lines) {\n",
    "    return false;\n",
    "}"
   ]
  },
  {
   "cell_type": "markdown",
   "metadata": {},
   "source": [
    "Compare values from the MVP with the existing logger\n",
    "--\n",
    "\n",
    "Data from the existing logger is in\n",
    "\n",
    "```waihaha.gns.cri.nz:/home/sysop/csi/inferno/2018``` with files like ```2018.034.Inferno-utc.csv```"
   ]
  },
  {
   "cell_type": "code",
   "execution_count": null,
   "metadata": {
    "collapsed": true
   },
   "outputs": [],
   "source": [
    "import pandas as pd\n",
    "%matplotlib inline"
   ]
  },
  {
   "cell_type": "markdown",
   "metadata": {},
   "source": [
    "**Data files**"
   ]
  },
  {
   "cell_type": "code",
   "execution_count": null,
   "metadata": {
    "collapsed": true
   },
   "outputs": [],
   "source": [
    "mvpfile = 'Table1.csv'\n",
    "dtstart = '2017-12-06T00:30:00'\n",
    "\n",
    "existfile = 'existing_logger.txt'"
   ]
  },
  {
   "cell_type": "markdown",
   "metadata": {},
   "source": [
    "**Read data**"
   ]
  },
  {
   "cell_type": "code",
   "execution_count": null,
   "metadata": {
    "collapsed": true
   },
   "outputs": [],
   "source": [
    "#MVP\n",
    "df = pd.read_csv(mvpfile, parse_dates=True, index_col = 'Datetime')\n",
    "#Use only data after logger was installed\n",
    "mvp = df[df.index>=dtstart]"
   ]
  },
  {
   "cell_type": "code",
   "execution_count": null,
   "metadata": {
    "scrolled": false
   },
   "outputs": [],
   "source": [
    "mvp.tail()"
   ]
  },
  {
   "cell_type": "markdown",
   "metadata": {},
   "source": [
    "**Get recent existing data**"
   ]
  },
  {
   "cell_type": "code",
   "execution_count": null,
   "metadata": {
    "collapsed": true
   },
   "outputs": [],
   "source": [
    "%%bash\n",
    "ssh volcano@waihaha \"cat /home/sysop/csi/inferno/2018/2018.???.Inferno-utc.csv\" > existing_logger_2018.txt"
   ]
  },
  {
   "cell_type": "code",
   "execution_count": null,
   "metadata": {
    "collapsed": true
   },
   "outputs": [],
   "source": [
    "%%bash\n",
    "cat existing_logger_2017.txt existing_logger_2018.txt > existing_logger.txt\n",
    "#drop header lines\n",
    "sed -i '/^I/ d; /^T/ d; /^C/ d' existing_logger.txt"
   ]
  },
  {
   "cell_type": "code",
   "execution_count": null,
   "metadata": {
    "collapsed": true
   },
   "outputs": [],
   "source": [
    "#existing\n",
    "names = ['date', 'time', 'temp', 'level']\n",
    "exist = pd.read_csv(existfile, sep='\\s+', skiprows=3, names=names, parse_dates={\"Datetime\" : ['date', 'time']}, usecols=[0,1,5,8], index_col = [0])"
   ]
  },
  {
   "cell_type": "code",
   "execution_count": null,
   "metadata": {
    "scrolled": false
   },
   "outputs": [],
   "source": [
    "exist.tail()"
   ]
  },
  {
   "cell_type": "markdown",
   "metadata": {},
   "source": [
    "**Resample existing data on same time scale as MVP**"
   ]
  },
  {
   "cell_type": "code",
   "execution_count": null,
   "metadata": {
    "collapsed": true
   },
   "outputs": [],
   "source": [
    "exist1 = exist.resample('10T')\n",
    "exist2 = exist1.interpolate(method='linear')"
   ]
  },
  {
   "cell_type": "code",
   "execution_count": null,
   "metadata": {},
   "outputs": [],
   "source": [
    "exist2.tail()"
   ]
  },
  {
   "cell_type": "markdown",
   "metadata": {},
   "source": [
    "**Temperature**"
   ]
  },
  {
   "cell_type": "code",
   "execution_count": null,
   "metadata": {
    "scrolled": true
   },
   "outputs": [],
   "source": [
    "tmp = mvp['Temp_PRT_degC'].plot(figsize=(20,7), title='Temperature', label='MVP', fontsize=12)\n",
    "exist2['temp'].plot(ax=tmp, label='existing, interpolated')\n",
    "tmp.title.set_size(20)\n",
    "tmp.grid()\n",
    "tmp.set_ylabel(\"Temperature (deg C)\")\n",
    "tmp.set_ylim(ymin=10, ymax=80)\n",
    "tmp.legend(loc='best')"
   ]
  },
  {
   "cell_type": "code",
   "execution_count": null,
   "metadata": {
    "collapsed": true
   },
   "outputs": [],
   "source": [
    "fig = tmp.get_figure()\n",
    "fig.savefig('temperature_compare.png', dpi=100)"
   ]
  },
  {
   "cell_type": "markdown",
   "metadata": {},
   "source": [
    "**Temperature difference**"
   ]
  },
  {
   "cell_type": "code",
   "execution_count": null,
   "metadata": {},
   "outputs": [],
   "source": [
    "diff = mvp['Temp_PRT_degC'] - exist2['temp']\n",
    "diff.describe()"
   ]
  },
  {
   "cell_type": "markdown",
   "metadata": {},
   "source": [
    "**Depth**"
   ]
  },
  {
   "cell_type": "code",
   "execution_count": null,
   "metadata": {
    "collapsed": true
   },
   "outputs": [],
   "source": [
    "diff = mvp['Depth_USGS_OTT_meters'] - exist2['level']\n",
    "diff.mean()\n",
    "exist2['level'] += diff.mean()"
   ]
  },
  {
   "cell_type": "code",
   "execution_count": null,
   "metadata": {},
   "outputs": [],
   "source": [
    "dep = mvp['Depth_USGS_OTT_meters'].plot(figsize=(20,7), title='Water Depth Above Sensor (existing is corrected for comparison)',fontsize=12, label='MVP')\n",
    "exist2['level'].plot(ax=dep, label='existing, interpolated')\n",
    "dep.title.set_size(20)\n",
    "dep.grid()\n",
    "dep.set_ylabel(\"Depth (m)\")\n",
    "dep.legend(loc='best')"
   ]
  },
  {
   "cell_type": "code",
   "execution_count": null,
   "metadata": {
    "collapsed": true
   },
   "outputs": [],
   "source": [
    "fig = dep.get_figure()\n",
    "fig.savefig('depth_compare.png', dpi=100)"
   ]
  }
 ],
 "metadata": {
  "kernelspec": {
   "display_name": "Python 2",
   "language": "python",
   "name": "python2"
  },
  "language_info": {
   "codemirror_mode": {
    "name": "ipython",
    "version": 2
   },
   "file_extension": ".py",
   "mimetype": "text/x-python",
   "name": "python",
   "nbconvert_exporter": "python",
   "pygments_lexer": "ipython2",
   "version": "2.7.12"
  }
 },
 "nbformat": 4,
 "nbformat_minor": 2
}
