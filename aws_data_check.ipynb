{
 "cells": [
  {
   "cell_type": "code",
   "execution_count": null,
   "metadata": {},
   "outputs": [],
   "source": [
    "from IPython.core.display import display, HTML\n",
    "display(HTML(\"<style>.container { width:100% !important; }</style>\"))"
   ]
  },
  {
   "cell_type": "code",
   "execution_count": null,
   "metadata": {},
   "outputs": [],
   "source": [
    "%%javascript\n",
    "IPython.OutputArea.prototype._should_scroll = function(lines) {\n",
    "    return false;\n",
    "}"
   ]
  },
  {
   "cell_type": "markdown",
   "metadata": {},
   "source": [
    "# Check data retrieved from AWS S3 to test data logger installed in the field"
   ]
  },
  {
   "cell_type": "code",
   "execution_count": null,
   "metadata": {},
   "outputs": [],
   "source": [
    "import pandas as pd\n",
    "import matplotlib.pyplot as plt\n",
    "import numpy as np\n",
    "import os\n",
    "import glob"
   ]
  },
  {
   "cell_type": "markdown",
   "metadata": {},
   "source": [
    "## This cell specifies what site we are dealing with; edit this as required"
   ]
  },
  {
   "cell_type": "code",
   "execution_count": null,
   "metadata": {},
   "outputs": [],
   "source": [
    "#new specifications\n",
    "# logger = 'lowertemaari'\n",
    "# directory = './LowerTeMaari/'\n",
    "# dtstart = '2019-04-10T02:00:00'\n",
    "\n",
    "logger = 'infernocratertest'\n",
    "directory = './InfernoCrater/'\n",
    "#dtstart = '2019-04-10T02:00:00'\n",
    "\n",
    "#old specifications\n",
    "\n",
    "# directory = './UpperTeMaari/'\n",
    "# csvfile = 'Table1.csv'\n",
    "# loggerfile = directory+csvfile\n",
    "# dtstart = '2018-10-08T23:50:00'\n",
    "\n",
    "# directory = './RuapehuCraterLake/'\n",
    "# csvfile = 'Table1.csv'\n",
    "# loggerfile = directory+csvfile\n",
    "# dtstart = '2019-03-20T23:00:00'\n",
    "\n",
    "# directory = './Fumarole13/'\n",
    "# csvfile = 'Table1.csv'\n",
    "# loggerfile = directory+csvfile\n",
    "# dtstart = '2017-12-06T00:30:00'\n",
    "\n",
    "# directory = './FoxLandslide/'\n",
    "# csvfile = 'Table1.csv'\n",
    "# loggerfile = directory+csvfile\n",
    "# dtstart = '2019-02-06T01:10:00'\n",
    "\n",
    "# directory = './UpperTama/'\n",
    "# csvfile = 'Table1.csv'\n",
    "# loggerfile = directory+csvfile\n",
    "# dtstart = '2019-03-10 00:00:00'"
   ]
  },
  {
   "cell_type": "markdown",
   "metadata": {},
   "source": [
    "## Reading and preparing data"
   ]
  },
  {
   "cell_type": "markdown",
   "metadata": {},
   "source": [
    "### Split data file into like parts.\n",
    "\n",
    "Some sites will have changes to instruments and this may change numbers of columns as well as column content\n",
    "\n",
    "This will cause issues reading the file into a dataframe, as further header lines and number of columns will cause an error."
   ]
  },
  {
   "cell_type": "code",
   "execution_count": null,
   "metadata": {},
   "outputs": [],
   "source": [
    "#remove any remaining split files\n",
    "try:\n",
    "    files = glob.glob('xx*')\n",
    "    for file in files:\n",
    "        os.remove(file)\n",
    "except:\n",
    "    pass\n",
    "              \n",
    "loggerfile = logger+'_Table1.csv'\n",
    "    \n",
    "#split file so one part for each header line\n",
    "cmd = 'csplit -z '+loggerfile+' /RecNbr/ {*}'\n",
    "os.system(cmd)\n",
    "\n",
    "files = glob.glob('xx*')\n",
    "files.sort()\n",
    "loggerfile = files[-1]\n",
    "print (logger+' datafile contains '+str(len(files))+' components, displaying the only the most recent')"
   ]
  },
  {
   "cell_type": "markdown",
   "metadata": {},
   "source": [
    "### Read data"
   ]
  },
  {
   "cell_type": "code",
   "execution_count": null,
   "metadata": {},
   "outputs": [],
   "source": [
    "data = pd.read_csv(loggerfile, parse_dates=True, index_col = 'Time', na_values='NAN')\n",
    "data.head()"
   ]
  },
  {
   "cell_type": "markdown",
   "metadata": {},
   "source": [
    "## Displaying data"
   ]
  },
  {
   "cell_type": "markdown",
   "metadata": {},
   "source": [
    "### Plot supply voltage, do this for every logger site"
   ]
  },
  {
   "cell_type": "code",
   "execution_count": null,
   "metadata": {},
   "outputs": [],
   "source": [
    "vol = data['SupplyVolts'].plot(figsize=(20,7), title='Supply Voltage - '+logger, fontsize=12)\n",
    "vol.title.set_size(20)\n",
    "vol.grid()\n",
    "vol.set_ylim(11,15)\n",
    "\n",
    "fig = vol.get_figure()\n",
    "fig.savefig(directory+'field_logger_voltage.png', dpi=100, bbox_inches='tight')"
   ]
  },
  {
   "cell_type": "markdown",
   "metadata": {},
   "source": [
    "### Do different things for each logger data set"
   ]
  },
  {
   "cell_type": "markdown",
   "metadata": {},
   "source": [
    "#### Inferno Crater"
   ]
  },
  {
   "cell_type": "code",
   "execution_count": null,
   "metadata": {
    "scrolled": true
   },
   "outputs": [],
   "source": [
    "if directory == './InfernoCrater/':\n",
    "    fig,(ax0,ax1, ax2) = plt.subplots(3, 1, figsize=(20,15))\n",
    "    plt.subplots_adjust(wspace=0.5, hspace=0.5)\n",
    "\n",
    "    data['Temp_PRT_degC'].plot(ax=ax0, title='Observation Temperature - '+logger, fontsize=12)\n",
    "    ax0.title.set_size(20)\n",
    "    ax0.grid()\n",
    "    ax0.set_ylabel('Temperature (deg C)')\n",
    "    ax0.set_xlabel('')\n",
    "\n",
    "    data['PTemp_degC'].plot(ax=ax1, title='Box Temperature - '+logger, fontsize=12)\n",
    "    ax1.title.set_size(20)\n",
    "    ax1.grid()\n",
    "    ax1.set_ylabel('Temperature (deg C)')\n",
    "    ax1.set_xlabel('')\n",
    "    \n",
    "    data['Depth_USGS_OTT_meters'].plot(ax=ax2, title='Water Depth Above Sensor - '+logger, fontsize=12)\n",
    "    ax2.title.set_size(20)\n",
    "    ax2.grid()\n",
    "    ax2.set_ylabel(\"Depth (m)\")\n",
    "    ax2.set_ylim(top=11, bottom=0)\n",
    "      \n",
    "    fig.savefig(directory+logger+'_field_logger.png', dpi=100, bbox_inches='tight')"
   ]
  },
  {
   "cell_type": "markdown",
   "metadata": {},
   "source": [
    "#### Lower Te Maari"
   ]
  },
  {
   "cell_type": "code",
   "execution_count": null,
   "metadata": {},
   "outputs": [],
   "source": [
    "if directory == './LowerTeMaari/':\n",
    "    fig,(ax0, ax1) = plt.subplots(2, 1, figsize=(20,10))\n",
    "    plt.subplots_adjust(wspace=0.5, hspace=0.5)\n",
    "    \n",
    "    data['Temp_thermocouple1_degC'].plot(ax=ax0, title='Observation Temperature - '+logger, fontsize=12)\n",
    "    ax0.title.set_size(20)\n",
    "    ax0.grid()\n",
    "    ax0.set_ylabel('Temperature (deg C)')\n",
    "    ax0.set_xlabel('')\n",
    "    ax0.set_ylim(40,60)\n",
    "\n",
    "    data['PTemp_degC'].plot(ax=ax1, title='Box Temperature - '+logger, fontsize=12)\n",
    "    ax1.title.set_size(20)\n",
    "    ax1.grid()\n",
    "    ax1.set_ylabel('Temperature (deg C)')\n",
    "    ax1.set_xlabel('')\n",
    "    \n",
    "    fig.savefig(directory+logger+'_field_logger.png', dpi=100, bbox_inches='tight')"
   ]
  },
  {
   "cell_type": "markdown",
   "metadata": {},
   "source": [
    "#### Upper Te Maari"
   ]
  },
  {
   "cell_type": "code",
   "execution_count": null,
   "metadata": {},
   "outputs": [],
   "source": [
    "if directory == './UpperTeMaari/':\n",
    "    fig,(ax0,ax1,ax2) = plt.subplots(3, 1, figsize=(20,15))\n",
    "    plt.subplots_adjust(wspace=0.5, hspace=0.5)\n",
    "\n",
    "    data['Temp_thermocouple2_degC'].plot(ax=ax0, title='Temperature Eastern Feature - '+logger, fontsize=12)\n",
    "    ax0.title.set_size(20)\n",
    "    ax0.grid()\n",
    "    ax0.set_ylabel('Temperature (deg C)')\n",
    "    ax0.set_xlabel('')\n",
    "    ax0.set_ylim(bottom=45)\n",
    "    \n",
    "    data['Temp_thermocouple1_degC'].plot(ax=ax1, title='Temperature Southern Feature - '+logger, fontsize=12)\n",
    "    ax1.title.set_size(20)\n",
    "    ax1.grid()\n",
    "    ax1.set_ylabel('Temperature (deg C)')\n",
    "    ax1.set_ylim(bottom=90)\n",
    "        \n",
    "    data['PTemp_degC'].plot(ax=ax2, title='Box Temperature - '+logger, fontsize=12)\n",
    "    ax2.title.set_size(20)\n",
    "    ax2.grid()\n",
    "    ax2.set_ylabel('Temperature (deg C)')\n",
    "    ax2.set_xlabel('')\n",
    "    \n",
    "    fig.savefig(directory+logger+'_field_logger.png', dpi=100, bbox_inches='tight')"
   ]
  },
  {
   "cell_type": "markdown",
   "metadata": {},
   "source": [
    "#### Fumarole 13"
   ]
  },
  {
   "cell_type": "code",
   "execution_count": null,
   "metadata": {},
   "outputs": [],
   "source": [
    "if directory == './Fumarole13/':\n",
    "    fig,(ax0,ax1,ax2) = plt.subplots(3, 1, figsize=(20,15))\n",
    "    plt.subplots_adjust(wspace=0.5, hspace=0.5)\n",
    "\n",
    "    #feature 1, eastern\n",
    "    data['Temp_PRT1_degC'].plot(ax=ax0, title='Observation Temperature Eastern Feature - '+logger, fontsize=12, label='PRT')\n",
    "    ax0.title.set_size(20)\n",
    "    ax0.grid()\n",
    "    ax0.set_ylabel('Temperature (deg C)')\n",
    "    ax0.set_xlabel('')\n",
    "    ax0.legend(loc='best')\n",
    "    \n",
    "    #feature 2, western\n",
    "    data['Temp_thermocouple2_degC'].plot(ax=ax1, title='Observation Temperature Western Feature - '+logger, fontsize=12, label='HiT thermocouple')\n",
    "    ax1.title.set_size(20)\n",
    "    ax1.grid()\n",
    "    ax1.set_ylabel('Temperature (deg C)')\n",
    "    ax1.set_xlabel('')\n",
    "    ax1.set_ylim(bottom=90)\n",
    "    ax1.legend(loc='best')\n",
    "    \n",
    "    #box and air temperatures\n",
    "    data['PTemp_degC'].plot(ax=ax2, title='Box Temperature - '+logger, fontsize=12, label='logger')\n",
    "    ax2.title.set_size(20)\n",
    "    ax2.grid()\n",
    "    ax2.set_ylabel('Temperature (deg C)')\n",
    "    ax2.set_xlabel('')\n",
    "    \n",
    "    data['Temp_thermocouple1_degC'].plot(ax=ax2, label='box thermocouple')\n",
    "    ax2.legend(loc='best')\n",
    "    \n",
    "    fig.savefig(directory+logger+'_field_logger.png', dpi=100, bbox_inches='tight')"
   ]
  },
  {
   "cell_type": "markdown",
   "metadata": {},
   "source": [
    "#### Ruapehu Crater Lake"
   ]
  },
  {
   "cell_type": "code",
   "execution_count": null,
   "metadata": {},
   "outputs": [],
   "source": [
    "if directory == './RuapehuCraterLake/':\n",
    "    fig,(ax0, ax1, ax2) = plt.subplots(2, 1, figsize=(20,15))\n",
    "    plt.subplots_adjust(wspace=0.5, hspace=0.5)\n",
    "    \n",
    "    data['Temp_thermocouple1_degC'].plot(ax=ax0, title='Observation Temperature - '+logger, fontsize=12)\n",
    "    ax0.title.set_size(20)\n",
    "    ax0.grid()\n",
    "    ax0.set_ylabel('Temperature (deg C)')\n",
    "    ax0.set_xlabel('')\n",
    "\n",
    "    data['PTemp_degC'].plot(ax=ax1, title='Box Temperature - '+logger, fontsize=12)\n",
    "    ax1.title.set_size(20)\n",
    "    ax1.grid()\n",
    "    ax1.set_ylabel('Temperature (deg C)')\n",
    "    ax1.set_xlabel('')\n",
    "    \n",
    "    data['Depth_USGS_OTT_meters'].plot(ax=ax2, title='Water Depth Above Sensor - '+logger, fontsize=12)\n",
    "    ax2.title.set_size(20)\n",
    "    ax2.grid()\n",
    "    ax2.set_ylabel(\"Depth (m)\")\n",
    "    ax2.set_ylim(top=1.5, bottom=0)\n",
    "    \n",
    "    fig.savefig(directory+logger+'_field_logger.png', dpi=100, bbox_inches='tight')"
   ]
  },
  {
   "cell_type": "markdown",
   "metadata": {},
   "source": [
    "#### Upper Tama"
   ]
  },
  {
   "cell_type": "code",
   "execution_count": null,
   "metadata": {},
   "outputs": [],
   "source": [
    "if directory == './UpperTama/':\n",
    "    fig,(ax0,ax1, ax2) = plt.subplots(2, 1, figsize=(20,15))\n",
    "    plt.subplots_adjust(wspace=0.5, hspace=0.5)\n",
    "\n",
    "    #PRT sensor\n",
    "    data['Temp_PRT_degC'].plot(ax=ax0, title='Observation Temperature - '+logger, fontsize=12​, label='PRT')\n",
    "    ax0.title.set_size(20)\n",
    "    ax0.grid()\n",
    "    ax0.set_ylabel('Temperature (deg C)')\n",
    "    ax0.set_xlabel('')\n",
    "    ax0.set_ylim(bottom=5)\n",
    "    \n",
    "    #CS456 sensor\n",
    "    data['Temp_CS456_degC'].plot(ax=ax0, label='CS456')\n",
    "    ax0.legend(loc='best')\n",
    "    \n",
    "    #box temperatures\n",
    "    data['PTemp_degC'].plot(ax=ax1, title='Box Temperature - '+logger, fontsize=12, label='logger')\n",
    "    ax1.title.set_size(20)\n",
    "    ax1.grid()\n",
    "    ax1.set_ylabel('Temperature (deg C)')\n",
    "    ax1.set_xlabel('')\n",
    "    \n",
    "    data['Depth_CS456_meters'].plot(ax=ax2, title='Water Depth Above Sensor - '+logger, fontsize=12,fontsize=12)\n",
    "    ax2.title.set_size(20)\n",
    "    ax2.grid()\n",
    "    ax2.set_ylabel(\"Depth (m)\")\n",
    "    ax2.set_ylim(top=1.25, bottom=0.5)\n",
    "    \n",
    "    fig.savefig(directory+logger+'_field_logger.png', dpi=100, bbox_inches='tight')"
   ]
  },
  {
   "cell_type": "markdown",
   "metadata": {},
   "source": [
    "#### Fox Landslide"
   ]
  },
  {
   "cell_type": "code",
   "execution_count": null,
   "metadata": {},
   "outputs": [],
   "source": [
    "if directory == './FoxLandslide/':\n",
    "    fig,(ax0, ax1, ax2,ax3) = plt.subplots(1, 1, figsize=(20,20))\n",
    "    plt.subplots_adjust(wspace=0.5, hspace=0.5)\n",
    "\n",
    "    data['PTemp_degC'].plot(ax=ax0, title='Box Temperature - '+logger, fontsize=12)\n",
    "    ax0.title.set_size(20)\n",
    "    ax0.grid()\n",
    "    ax0.set_ylabel('Temperature (deg C)')\n",
    "    ax0.set_xlabel('')\n",
    "    \n",
    "    ax1.vlines(data.index, ymax=data['Rain1_mm_Tot'], ymin=0, color='blue')\n",
    "    ax1.set_ylabel('Rainfall (mm)')\n",
    "    ax1.set_title('Rainfall Sensor 1')\n",
    "    ax1.title.set_size(20)\n",
    "    ax1.grid()\n",
    "\n",
    "    ax2.vlines(data.index, ymax=data['Rain2_mm_Tot'], ymin=0, color='blue')\n",
    "    ax2.set_ylabel('Rainfall (mm)')\n",
    "    ax2.set_title('Rainfall Sensor 2')\n",
    "    ax2.title.set_size(20)\n",
    "    ax2.grid()\n",
    "    \n",
    "    #daily rainfall totals\n",
    "    daily = data['Rain1_mm_Tot'].resample('D').sum()\n",
    "    ax3.vlines(daily.index, ymax=daily, ymin=0, color='blue')\n",
    "    ax3.set_ylabel('Rainfall (mm)')\n",
    "    ax3.set_title('Rainfall Sensor 1, Daily Total (UTC Day)')\n",
    "    ax3.title.set_size(20)\n",
    "    ax3.grid()\n",
    "\n",
    "    fig.savefig(directory+logger+'_field_logger.png', dpi=100, bbox_inches='tight')"
   ]
  },
  {
   "cell_type": "markdown",
   "metadata": {},
   "source": [
    "#### Fox Landslide Position"
   ]
  },
  {
   "cell_type": "code",
   "execution_count": null,
   "metadata": {},
   "outputs": [],
   "source": [
    "if (directory == './FoxLandslide/'):\n",
    "    colors = np.arange(data.shape[0])\n",
    "    \n",
    "    data['longitude'] = data['longitude_a'] + data['longitude_b']/60\n",
    "    data['latitude'] = data['latitude_a'] + data['latitude_b']/60\n",
    "    \n",
    "    medlon = data.longitude.median()\n",
    "    medlat = data.latitude.median()\n",
    "    halfrange = 0.0002\n",
    "    latmin = medlat - halfrange\n",
    "    latmax = medlat + halfrange\n",
    "    lonmin = medlon - halfrange\n",
    "    lonmax = medlon + halfrange\n",
    "    \n",
    "    fig = plt.figure(figsize=(10,10))\n",
    "#     plt.plot(data['longitude'], data['latitude'], marker='None', color=colors, alpha=0.2)\n",
    "    plt.scatter(data['longitude'], data['latitude'], c=colors, edgecolors='None', s=5, cmap='cool')\n",
    "    plt.colorbar(label='Data point order')\n",
    "\n",
    "    plt.title('Apparent Position of Datalogger')\n",
    "    plt.xlabel('Longitude (deg)')\n",
    "    plt.ylabel('Latitude (deg)')\n",
    "    \n",
    "    plt.xlim(lonmin, lonmax)\n",
    "    plt.ylim(latmin, latmax)\n",
    "\n",
    "    fig.savefig(directory+logger+'_field_logger_position.png', dpi=100, bbox_inches='tight')"
   ]
  }
 ],
 "metadata": {
  "kernelspec": {
   "display_name": "Python 3",
   "language": "python",
   "name": "python3"
  },
  "language_info": {
   "codemirror_mode": {
    "name": "ipython",
    "version": 3
   },
   "file_extension": ".py",
   "mimetype": "text/x-python",
   "name": "python",
   "nbconvert_exporter": "python",
   "pygments_lexer": "ipython3",
   "version": "3.7.1"
  }
 },
 "nbformat": 4,
 "nbformat_minor": 2
}
