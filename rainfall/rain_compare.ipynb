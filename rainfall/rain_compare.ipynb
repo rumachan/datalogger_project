{
 "cells": [
  {
   "cell_type": "code",
   "execution_count": null,
   "metadata": {},
   "outputs": [],
   "source": [
    "from IPython.core.display import display, HTML\n",
    "display(HTML(\"<style>.container { width:100% !important; }</style>\"))"
   ]
  },
  {
   "cell_type": "code",
   "execution_count": null,
   "metadata": {},
   "outputs": [],
   "source": [
    "%%javascript\n",
    "IPython.OutputArea.prototype._should_scroll = function(lines) {\n",
    "    return false;\n",
    "}"
   ]
  },
  {
   "cell_type": "markdown",
   "metadata": {},
   "source": [
    "# Compare rainfall from both sensors\n",
    "\n",
    "- Gauge 1 has a resolution of 0.2 mm\n",
    "- Gauge 2 has a resolution of 1 mm"
   ]
  },
  {
   "cell_type": "code",
   "execution_count": null,
   "metadata": {},
   "outputs": [],
   "source": [
    "import pandas as pd\n",
    "import matplotlib.pyplot as plt\n",
    "import numpy as np"
   ]
  },
  {
   "cell_type": "code",
   "execution_count": null,
   "metadata": {},
   "outputs": [],
   "source": [
    "loggerfile = 'Table1.csv'\n",
    "dtstart = '2019-01-17T23:10:00'"
   ]
  },
  {
   "cell_type": "markdown",
   "metadata": {},
   "source": [
    "**Read data**"
   ]
  },
  {
   "cell_type": "code",
   "execution_count": null,
   "metadata": {},
   "outputs": [],
   "source": [
    "df = pd.read_csv(loggerfile, parse_dates=True, index_col = 'Datetime')\n",
    "\n",
    "#Use only data after logger was installed\n",
    "data = df[df.index>=dtstart]"
   ]
  },
  {
   "cell_type": "code",
   "execution_count": null,
   "metadata": {
    "scrolled": false
   },
   "outputs": [],
   "source": [
    "data.head()"
   ]
  },
  {
   "cell_type": "markdown",
   "metadata": {},
   "source": [
    "**Rainfall comparison**"
   ]
  },
  {
   "cell_type": "code",
   "execution_count": null,
   "metadata": {},
   "outputs": [],
   "source": [
    "nonzero = data[(data['Rain1_mm_Tot']>0) | (data['Rain2_mm_Tot']>0)]\n",
    "nonzero.head()"
   ]
  },
  {
   "cell_type": "code",
   "execution_count": null,
   "metadata": {},
   "outputs": [],
   "source": [
    "maxrain = np.maximum(nonzero['Rain1_mm_Tot'].max(), nonzero['Rain1_mm_Tot'].max())\n",
    "maxrain"
   ]
  },
  {
   "cell_type": "code",
   "execution_count": null,
   "metadata": {},
   "outputs": [],
   "source": [
    "fig,ax = plt.subplots(1, 1, figsize=(10,10))\n",
    "ax.errorbar(nonzero['Rain1_mm_Tot'], nonzero['Rain2_mm_Tot'], xerr=0.2, yerr=1, fmt='o', color='red', ecolor='blue')\n",
    "\n",
    "ax.plot([0,maxrain],[0,maxrain], linestyle='--', color='gray')\n",
    "ax.set_ylim(0,maxrain)\n",
    "ax.set_xlim(0,maxrain)\n",
    "ax.set_title('Non-zero rainfall observations')\n",
    "ax.set_xlabel('Gauge 1 (mm)')\n",
    "ax.set_ylabel('Gauge 2 (mm)')\n",
    "\n",
    "fig.savefig('rain_compare.png')"
   ]
  }
 ],
 "metadata": {
  "kernelspec": {
   "display_name": "Python 3",
   "language": "python",
   "name": "python3"
  },
  "language_info": {
   "codemirror_mode": {
    "name": "ipython",
    "version": 3
   },
   "file_extension": ".py",
   "mimetype": "text/x-python",
   "name": "python",
   "nbconvert_exporter": "python",
   "pygments_lexer": "ipython3",
   "version": "3.7.1"
  }
 },
 "nbformat": 4,
 "nbformat_minor": 2
}
