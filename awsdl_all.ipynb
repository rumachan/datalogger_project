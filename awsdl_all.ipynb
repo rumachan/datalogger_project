{
 "cells": [
  {
   "cell_type": "markdown",
   "metadata": {},
   "source": [
    "# Download Low Rate Data Logger Files From AWS S3 - All Data for a Logger That Exists on S3\n",
    "\n",
    "Download all files from a logger and concatenate to a single file.\n",
    "\n",
    "- Get list of contents of lake.\n",
    "- For a specific logger:\n",
    "    - Download each day file\n",
    "    - Concatenate all of these\n",
    "    - Remove the header for each day\n",
    "- Data file produced is called as 'loggername_Table1.csv'\n",
    "\n",
    "**This version uses list_objects_v2 to find the objects to download**"
   ]
  },
  {
   "cell_type": "code",
   "execution_count": 1,
   "metadata": {},
   "outputs": [],
   "source": [
    "import boto3\n",
    "import os\n",
    "import glob\n",
    "import shutil"
   ]
  },
  {
   "cell_type": "code",
   "execution_count": 2,
   "metadata": {},
   "outputs": [],
   "source": [
    "#S3 bucket name\n",
    "bucket = 'dev-data-logger-lake.geonet.org.nz'\n",
    "\n",
    "#folder for downloaded daily CSV files\n",
    "dltmp = '/home/sherburn/GeoNet/datalogger/auto_download/tmp'\n",
    "#top folder to save final CSV files\n",
    "dlsav = '/home/sherburn/GeoNet/datalogger/auto_download'\n",
    "\n",
    "#temporary file, concatenated but with daily headers\n",
    "tmpfile = os.path.join(dlsav, 'tmpfile.csv')\n",
    "\n",
    "#list of loggers to download data from\n",
    "loggers = ['infernocratertest', 'lowertemaari', 'foxglacierlandslide']"
   ]
  },
  {
   "cell_type": "code",
   "execution_count": 3,
   "metadata": {},
   "outputs": [],
   "source": [
    "def remove_duplines(tmpfile, completefile):\n",
    "    lines_seen = [] # holds lines already seen\n",
    "    outfile = open(completefile, 'w')\n",
    "    for line in open(tmpfile, 'r'):\n",
    "        if line not in lines_seen: # not a duplicate\n",
    "            outfile.write(line)\n",
    "            lines_seen.append(line)\n",
    "    outfile.close()"
   ]
  },
  {
   "cell_type": "code",
   "execution_count": 4,
   "metadata": {},
   "outputs": [
    {
     "name": "stdout",
     "output_type": "stream",
     "text": [
      "downloading from logger: infernocratertest\n",
      "downloading from logger: lowertemaari\n",
      "downloading from logger: foxglacierlandslide\n"
     ]
    }
   ],
   "source": [
    "#create client\n",
    "s3 = boto3.client('s3')\n",
    "\n",
    "#list contents of bucket\n",
    "list=s3.list_objects_v2(Bucket=bucket)['Contents']\n",
    "\n",
    "#loop for each logger \n",
    "for logger in loggers:\n",
    "    print ('downloading from logger:', logger)\n",
    "    \n",
    "    os.makedirs(dltmp, exist_ok=True) #make tmp directory for downloaded files\n",
    "    for key in list:\n",
    "        if ((logger in key['Key']) and ('Table1' in key['Key'])):\n",
    "            #print (key['Key'])\n",
    "            s3.download_file(bucket, key['Key'], os.path.join(dltmp, os.path.basename(key['Key'])))\n",
    "\n",
    "    #concat all files for the logger\n",
    "    concatfile = tmpfile\n",
    "    files = glob.glob(os.path.join(dltmp, '*.csv'))\n",
    "    files.sort() #to get data in time order\n",
    "    with open(concatfile, 'w') as outfile:\n",
    "        for file in files:\n",
    "            with open(file, 'r') as readfile:\n",
    "                shutil.copyfileobj(readfile, outfile)\n",
    "\n",
    "    shutil.rmtree(dltmp)#remove tmp directory for downloaded files\n",
    "    \n",
    "    #remove unwanted header lines from temporary file\n",
    "    completefile = os.path.join(dlsav, logger, logger+'_Table1.csv')\n",
    "    remove_duplines(tmpfile, completefile)\n",
    "    #remove temporary file\n",
    "    os.remove(tmpfile)"
   ]
  }
 ],
 "metadata": {
  "kernelspec": {
   "display_name": "Python 3",
   "language": "python",
   "name": "python3"
  },
  "language_info": {
   "codemirror_mode": {
    "name": "ipython",
    "version": 3
   },
   "file_extension": ".py",
   "mimetype": "text/x-python",
   "name": "python",
   "nbconvert_exporter": "python",
   "pygments_lexer": "ipython3",
   "version": "3.7.1"
  }
 },
 "nbformat": 4,
 "nbformat_minor": 2
}
