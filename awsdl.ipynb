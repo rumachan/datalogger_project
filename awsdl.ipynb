{
 "cells": [
  {
   "cell_type": "markdown",
   "metadata": {},
   "source": [
    "# Download Low Rate Data Logger Files From AWS S3 - Test\n",
    "\n",
    "Download all files from a single logger and concatenate to a single file for analysis"
   ]
  },
  {
   "cell_type": "code",
   "execution_count": 60,
   "metadata": {},
   "outputs": [],
   "source": [
    "import boto3\n",
    "import os\n",
    "import glob\n",
    "import shutil"
   ]
  },
  {
   "cell_type": "code",
   "execution_count": 69,
   "metadata": {},
   "outputs": [],
   "source": [
    "bucket = 'dev-data-logger-lake.geonet.org.nz'\n",
    "\n",
    "dltmp = '/home/sherburn/scratch/devlogger/tmp'\n",
    "dlsav = '/home/sherburn/scratch/devlogger'\n",
    "\n",
    "loggers = ['infernocratertest', 'lowertemaari']"
   ]
  },
  {
   "cell_type": "code",
   "execution_count": 62,
   "metadata": {},
   "outputs": [],
   "source": [
    "s3 = boto3.client('s3')"
   ]
  },
  {
   "cell_type": "code",
   "execution_count": 70,
   "metadata": {},
   "outputs": [],
   "source": [
    "list=s3.list_objects_v2(Bucket=bucket)['Contents']\n",
    "\n",
    "for logger in loggers:\n",
    "    os.makedirs(dltmp, exist_ok=True) #make tmp directory for downloaded files\n",
    "    for key in list:\n",
    "        if ((logger in key['Key']) and ('Table1' in key['Key'])):\n",
    "            #print (key['Key'])\n",
    "            s3.download_file(bucket, key['Key'], os.path.join(dltmp, os.path.basename(key['Key'])))\n",
    "\n",
    "    #concat all files\n",
    "    concatfile = os.path.join(dlsav, logger+'_Table1.csv')\n",
    "    files = glob.glob(os.path.join(dltmp, '*.csv'))\n",
    "    with open(concatfile, 'w') as outfile:\n",
    "        for file in files:\n",
    "            with open(file, 'r') as readfile:\n",
    "                shutil.copyfileobj(readfile, outfile)\n",
    "\n",
    "    shutil.rmtree(dltmp)#remove tmp directory for downloaded files"
   ]
  }
 ],
 "metadata": {
  "kernelspec": {
   "display_name": "Python 3",
   "language": "python",
   "name": "python3"
  },
  "language_info": {
   "codemirror_mode": {
    "name": "ipython",
    "version": 3
   },
   "file_extension": ".py",
   "mimetype": "text/x-python",
   "name": "python",
   "nbconvert_exporter": "python",
   "pygments_lexer": "ipython3",
   "version": "3.7.1"
  }
 },
 "nbformat": 4,
 "nbformat_minor": 2
}
