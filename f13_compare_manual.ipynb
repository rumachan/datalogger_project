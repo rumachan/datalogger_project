{
 "cells": [
  {
   "cell_type": "code",
   "execution_count": null,
   "metadata": {},
   "outputs": [],
   "source": [
    "%%javascript\n",
    "IPython.OutputArea.prototype._should_scroll = function(lines) {\n",
    "    return false;\n",
    "}"
   ]
  },
  {
   "cell_type": "markdown",
   "metadata": {},
   "source": [
    "Compare logger values with manual measurements\n",
    "--\n",
    "\n",
    "Manual measurements are not yet stored in FITS"
   ]
  },
  {
   "cell_type": "code",
   "execution_count": null,
   "metadata": {},
   "outputs": [],
   "source": [
    "import pandas as pd\n",
    "%matplotlib inline"
   ]
  },
  {
   "cell_type": "markdown",
   "metadata": {},
   "source": [
    "**Data files**"
   ]
  },
  {
   "cell_type": "code",
   "execution_count": null,
   "metadata": {},
   "outputs": [],
   "source": [
    "logfile = 'Table1.csv'\n",
    "# dtstart = '2018-09-13T01:30:00'\n",
    "dtstart = '2018-12-01T00:00:00'\n",
    "\n",
    "\n",
    "site1 = 'manual_1_east.dat'\n",
    "site2 = 'manual_2_west.dat'"
   ]
  },
  {
   "cell_type": "markdown",
   "metadata": {},
   "source": [
    "**Read data**"
   ]
  },
  {
   "cell_type": "code",
   "execution_count": null,
   "metadata": {},
   "outputs": [],
   "source": [
    "#logger\n",
    "df = pd.read_csv(logfile, parse_dates=True, index_col = 'Datetime')\n",
    "#Use only data after logger was installed\n",
    "log = df[df.index>=dtstart]\n",
    "\n",
    "#errors, I assume AA accuracy, https://blog.beamex.com/pt100-temperature-sensor\n",
    "log['t1err'] = 0.1 + 0.0017 * log['Temp_PRT1_degC']\n",
    "log['t2err'] = 0.1 + 0.0017 * log['Temp_PRT2_degC']"
   ]
  },
  {
   "cell_type": "code",
   "execution_count": null,
   "metadata": {
    "scrolled": false
   },
   "outputs": [],
   "source": [
    "log.head()"
   ]
  },
  {
   "cell_type": "markdown",
   "metadata": {},
   "source": [
    "**Get manual data**"
   ]
  },
  {
   "cell_type": "code",
   "execution_count": null,
   "metadata": {
    "scrolled": false
   },
   "outputs": [],
   "source": [
    "s1 = pd.read_csv(site1,  parse_dates=True, index_col='date')\n",
    "s1.tail()"
   ]
  },
  {
   "cell_type": "code",
   "execution_count": null,
   "metadata": {
    "scrolled": false
   },
   "outputs": [],
   "source": [
    "s2 = pd.read_csv(site2,  parse_dates=True, index_col='date')\n",
    "s2.tail()"
   ]
  },
  {
   "cell_type": "markdown",
   "metadata": {},
   "source": [
    "**Temperature 1 east**"
   ]
  },
  {
   "cell_type": "code",
   "execution_count": null,
   "metadata": {
    "scrolled": true
   },
   "outputs": [],
   "source": [
    "tmp = log['Temp_PRT1_degC'].plot(figsize=(20,7), title='Observation Temperature 1, Eastern Site', fontsize=12, lw=1)\n",
    "t = log.index.values\n",
    "tmp.fill_between(t,log['Temp_PRT1_degC']+log['t1err'], log['Temp_PRT1_degC']-log['t1err'], color='blue', alpha=0.1, label='PRT1 uncertainty')\n",
    "\n",
    "s1['temp'].plot(ax=tmp, label='manual', marker='o', yerr=s1['error'])\n",
    "tmp.title.set_size(20)\n",
    "tmp.grid()\n",
    "tmp.set_ylabel(\"Temperature (deg C)\")\n",
    "tmp.set_ylim(bottom=80, top=110)\n",
    "tmp.legend(loc='best')"
   ]
  },
  {
   "cell_type": "code",
   "execution_count": null,
   "metadata": {},
   "outputs": [],
   "source": [
    "fig = tmp.get_figure()\n",
    "fig.savefig('temperature_1_east_manual.png', dpi=100)"
   ]
  },
  {
   "cell_type": "markdown",
   "metadata": {},
   "source": [
    "**Temperature 2 west**"
   ]
  },
  {
   "cell_type": "code",
   "execution_count": null,
   "metadata": {
    "scrolled": true
   },
   "outputs": [],
   "source": [
    "tmp = log['Temp_PRT2_degC'].plot(figsize=(20,7), title='Observation Temperature 2', fontsize=12, lw=3)\n",
    "s2['temp'].plot(ax=tmp, label='manual', marker='o', yerr=s2['error'])\n",
    "tmp.title.set_size(20)\n",
    "tmp.grid()\n",
    "tmp.set_ylabel(\"Temperature (deg C)\")\n",
    "tmp.set_ylim(bottom=80, top=110)\n",
    "tmp.legend(loc='best')"
   ]
  },
  {
   "cell_type": "code",
   "execution_count": null,
   "metadata": {},
   "outputs": [],
   "source": [
    "fig = tmp.get_figure()\n",
    "fig.savefig('temperature_2_west_manual.png', dpi=100)"
   ]
  }
 ],
 "metadata": {
  "kernelspec": {
   "display_name": "Python 3",
   "language": "python",
   "name": "python3"
  },
  "language_info": {
   "codemirror_mode": {
    "name": "ipython",
    "version": 3
   },
   "file_extension": ".py",
   "mimetype": "text/x-python",
   "name": "python",
   "nbconvert_exporter": "python",
   "pygments_lexer": "ipython3",
   "version": "3.6.7"
  }
 },
 "nbformat": 4,
 "nbformat_minor": 2
}
