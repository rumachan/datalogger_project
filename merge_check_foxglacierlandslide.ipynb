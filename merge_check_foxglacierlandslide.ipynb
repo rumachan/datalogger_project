{
 "cells": [
  {
   "cell_type": "markdown",
   "metadata": {},
   "source": [
    "# Check Fox Glacier Landslide data when merging manual retrieval and automatic retrieval\n",
    "\n",
    "Manual retrieval is using cr6-downloader or crx, **not** retrieval when at the site.\n",
    "\n",
    "For the manual data there were no sensor changes."
   ]
  },
  {
   "cell_type": "code",
   "execution_count": null,
   "metadata": {},
   "outputs": [],
   "source": [
    "from IPython.core.display import display, HTML\n",
    "display(HTML(\"<style>.container { width:100% !important; }</style>\"))"
   ]
  },
  {
   "cell_type": "code",
   "execution_count": null,
   "metadata": {},
   "outputs": [],
   "source": [
    "%%javascript\n",
    "IPython.OutputArea.prototype._should_scroll = function(lines) {\n",
    "    return false;\n",
    "}"
   ]
  },
  {
   "cell_type": "code",
   "execution_count": null,
   "metadata": {},
   "outputs": [],
   "source": [
    "import pandas as pd\n",
    "import matplotlib.pyplot as plt\n",
    "import numpy as np\n",
    "import os\n",
    "import glob\n",
    "%matplotlib notebook"
   ]
  },
  {
   "cell_type": "code",
   "execution_count": null,
   "metadata": {},
   "outputs": [],
   "source": [
    "logger = 'foxglacierlandslide'"
   ]
  },
  {
   "cell_type": "markdown",
   "metadata": {},
   "source": [
    "## Reading and preparing data"
   ]
  },
  {
   "cell_type": "markdown",
   "metadata": {},
   "source": [
    "### Split data file into like parts.\n",
    "\n",
    "Some sites will have changes to instruments and this may change numbers of columns as well as column content\n",
    "\n",
    "This will cause issues reading the file into a dataframe, as further header lines and number of columns will cause an error."
   ]
  },
  {
   "cell_type": "code",
   "execution_count": null,
   "metadata": {},
   "outputs": [],
   "source": [
    "#remove any remaining split files\n",
    "try:\n",
    "    files = glob.glob('xx*')\n",
    "    for file in files:\n",
    "        os.remove(file)\n",
    "except:\n",
    "    pass\n",
    "              \n",
    "loggerfile = logger+'_Table1.csv'\n",
    "    \n",
    "#split file so one part for each header line\n",
    "cmd = 'csplit -z '+loggerfile+' /RecNbr/ {*}'\n",
    "os.system(cmd)\n",
    "\n",
    "files = glob.glob('xx*')\n",
    "files.sort()\n",
    "loggerfile = files[-1]\n",
    "print (logger+' datafile contains '+str(len(files))+' components, displaying the only the most recent')"
   ]
  },
  {
   "cell_type": "markdown",
   "metadata": {},
   "source": [
    "### Read data"
   ]
  },
  {
   "cell_type": "code",
   "execution_count": null,
   "metadata": {
    "scrolled": true
   },
   "outputs": [],
   "source": [
    "data = pd.read_csv(loggerfile, parse_dates=True, index_col = 'Time', na_values='NAN')\n",
    "data.head()"
   ]
  },
  {
   "cell_type": "code",
   "execution_count": null,
   "metadata": {
    "scrolled": true
   },
   "outputs": [],
   "source": [
    "olddata1 = pd.read_csv('/home/sherburn/datalogger_manualretrieval_archive/foxglacierlandslide_20190206-20190516.csv', parse_dates=True, index_col = 'Time', na_values='NAN')\n",
    "olddata1.head()"
   ]
  },
  {
   "cell_type": "markdown",
   "metadata": {},
   "source": [
    "### Plot supply voltage"
   ]
  },
  {
   "cell_type": "code",
   "execution_count": null,
   "metadata": {},
   "outputs": [],
   "source": [
    "vol = data['SupplyVolts'].plot(figsize=(20,7), title='Supply Voltage - '+logger, fontsize=12)\n",
    "olddata1['SupplyVolts'].plot(ax=vol, color='red')\n",
    "vol.title.set_size(20)\n",
    "vol.grid()\n",
    "vol.set_ylim(11,15)"
   ]
  },
  {
   "cell_type": "markdown",
   "metadata": {},
   "source": [
    "### Plot observation data"
   ]
  },
  {
   "cell_type": "code",
   "execution_count": null,
   "metadata": {},
   "outputs": [],
   "source": [
    "fig,(ax0, ax1, ax2,ax3) = plt.subplots(4, 1, figsize=(20,20))\n",
    "plt.subplots_adjust(wspace=0.5, hspace=0.5)\n",
    "\n",
    "data['PTemp_degC'].plot(ax=ax0, title='Box Temperature - '+logger, fontsize=12)\n",
    "olddata1['PTemp_degC'].plot(ax=ax0, color='red')\n",
    "ax0.title.set_size(20)\n",
    "ax0.grid()\n",
    "ax0.set_ylabel('Temperature (deg C)')\n",
    "ax0.set_xlabel('')\n",
    "\n",
    "ax1.vlines(data.index, ymax=data['Rain1_mm_Tot'], ymin=0, color='blue')\n",
    "ax1.vlines(olddata1.index, ymax=olddata1['Rain1_mm_Tot'], ymin=0, color='red')\n",
    "ax1.set_ylabel('Rainfall (mm)')\n",
    "ax1.set_title('Rainfall Sensor 1')\n",
    "ax1.title.set_size(20)\n",
    "ax1.grid()\n",
    "\n",
    "ax2.vlines(data.index, ymax=data['Rain2_mm_Tot'], ymin=0, color='blue')\n",
    "ax2.vlines(olddata1.index, ymax=olddata1['Rain2_mm_Tot'], ymin=0, color='red')\n",
    "ax2.set_ylabel('Rainfall (mm)')\n",
    "ax2.set_title('Rainfall Sensor 2')\n",
    "ax2.title.set_size(20)\n",
    "ax2.grid()\n",
    "\n",
    "#daily rainfall totals\n",
    "daily = data['Rain1_mm_Tot'].resample('D').sum()\n",
    "ax3.vlines(daily.index, ymax=daily, ymin=0, color='blue')\n",
    "olddaily1 = olddata1['Rain1_mm_Tot'].resample('D').sum()\n",
    "ax3.vlines(olddaily1.index, ymax=olddaily1, ymin=0, color='red')\n",
    "ax3.set_ylabel('Rainfall (mm)')\n",
    "ax3.set_title('Rainfall Sensor 1, Daily Total (UTC Day)')\n",
    "ax3.title.set_size(20)\n",
    "ax3.grid()"
   ]
  }
 ],
 "metadata": {
  "kernelspec": {
   "display_name": "Python 3",
   "language": "python",
   "name": "python3"
  },
  "language_info": {
   "codemirror_mode": {
    "name": "ipython",
    "version": 3
   },
   "file_extension": ".py",
   "mimetype": "text/x-python",
   "name": "python",
   "nbconvert_exporter": "python",
   "pygments_lexer": "ipython3",
   "version": "3.7.1"
  }
 },
 "nbformat": 4,
 "nbformat_minor": 2
}
