{
 "cells": [
  {
   "cell_type": "code",
   "execution_count": null,
   "metadata": {},
   "outputs": [],
   "source": [
    "%%javascript\n",
    "IPython.OutputArea.prototype._should_scroll = function(lines) {\n",
    "    return false;\n",
    "}"
   ]
  },
  {
   "cell_type": "markdown",
   "metadata": {},
   "source": [
    "Compare values from the new logger with MAVZ RSAM data\n",
    "--\n",
    "\n",
    "Data from the new logger is on local disk.\n",
    "\n",
    "RSAM data need to be calculated separately, and stored on local disk."
   ]
  },
  {
   "cell_type": "code",
   "execution_count": null,
   "metadata": {
    "collapsed": true
   },
   "outputs": [],
   "source": [
    "import pandas as pd\n",
    "import numpy as np\n",
    "import matplotlib.pyplot as plt\n",
    "%matplotlib inline"
   ]
  },
  {
   "cell_type": "markdown",
   "metadata": {},
   "source": [
    "**Data files**"
   ]
  },
  {
   "cell_type": "code",
   "execution_count": null,
   "metadata": {
    "collapsed": true
   },
   "outputs": [],
   "source": [
    "newfile = 'Table1.csv'\n",
    "dtstart = '2018-05-04T04:00:00'"
   ]
  },
  {
   "cell_type": "markdown",
   "metadata": {},
   "source": [
    "**Read new data**"
   ]
  },
  {
   "cell_type": "code",
   "execution_count": null,
   "metadata": {
    "collapsed": true
   },
   "outputs": [],
   "source": [
    "df = pd.read_csv(newfile, parse_dates=True, index_col = 'Datetime')\n",
    "#Use only data after logger was installed\n",
    "rcl = df[df.index>=dtstart]"
   ]
  },
  {
   "cell_type": "code",
   "execution_count": null,
   "metadata": {
    "scrolled": false
   },
   "outputs": [],
   "source": [
    "rcl.tail()"
   ]
  },
  {
   "cell_type": "markdown",
   "metadata": {},
   "source": [
    "**Get RSAM data**"
   ]
  },
  {
   "cell_type": "code",
   "execution_count": null,
   "metadata": {
    "collapsed": true
   },
   "outputs": [],
   "source": [
    "#existing\n",
    "rsamfile = 'rsam_MAVZ.10.HHZ.NZ_2018-05-04-2018-05-08_bp_1.00-4.00.csv'\n",
    "rsam = pd.read_csv(rsamfile, parse_dates=True, index_col = 0)\n",
    "rsam1 = rsam[rsam.index>=dtstart]"
   ]
  },
  {
   "cell_type": "markdown",
   "metadata": {},
   "source": [
    "**Compare**"
   ]
  },
  {
   "cell_type": "code",
   "execution_count": null,
   "metadata": {},
   "outputs": [],
   "source": [
    "fig, axes = plt.subplots(nrows=2, ncols=1, figsize=(20,10), sharex=True)\n",
    "\n",
    "t = rcl['Temp_PRT_degC'].plot(ax=axes[0], legend=True, grid=True)\n",
    "rsam.plot(ax=axes[0], secondary_y=True, style='g')\n",
    "t.set_ylabel('Temperature (degC)')\n",
    "\n",
    "d = rcl['Depth_USGS_OTT_meters'].plot(ax=axes[1], legend=True, grid=True)\n",
    "rsam.plot(ax=axes[1], secondary_y=True, style='g')\n",
    "d.set_ylabel('Depth (m)')"
   ]
  }
 ],
 "metadata": {
  "kernelspec": {
   "display_name": "Python 2",
   "language": "python",
   "name": "python2"
  },
  "language_info": {
   "codemirror_mode": {
    "name": "ipython",
    "version": 2
   },
   "file_extension": ".py",
   "mimetype": "text/x-python",
   "name": "python",
   "nbconvert_exporter": "python",
   "pygments_lexer": "ipython2",
   "version": "2.7.12"
  }
 },
 "nbformat": 4,
 "nbformat_minor": 2
}
