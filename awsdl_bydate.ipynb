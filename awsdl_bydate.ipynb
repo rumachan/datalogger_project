{
 "cells": [
  {
   "cell_type": "markdown",
   "metadata": {},
   "source": [
    "# Download Low Rate Data Logger Files From AWS S3 - All Data for a Date Range\n",
    "\n",
    "Download files from a logger for a specific date range, and concatenate to a single file.\n",
    "\n",
    "- For a specific logger:\n",
    "    - Construct a list of filenames\n",
    "    - Download each day file\n",
    "    - Concatenate all of these\n",
    "    - Remove the header for each day\n",
    "- Data file produced is called as 'loggername_Table1.csv'\n",
    "\n",
    "**This version generates exact filenames to download, needs a date range**"
   ]
  },
  {
   "cell_type": "code",
   "execution_count": 7,
   "metadata": {},
   "outputs": [],
   "source": [
    "import boto3\n",
    "import os\n",
    "import glob\n",
    "import shutil\n",
    "import pandas as pd\n",
    "from datetime import datetime"
   ]
  },
  {
   "cell_type": "code",
   "execution_count": 8,
   "metadata": {},
   "outputs": [],
   "source": [
    "def remove_duplines(tmpfile, completefile):\n",
    "    lines_seen = [] # holds lines already seen\n",
    "    outfile = open(completefile, 'w')\n",
    "    for line in open(tmpfile, 'r'):\n",
    "        if line not in lines_seen: # not a duplicate\n",
    "            outfile.write(line)\n",
    "            lines_seen.append(line)\n",
    "    outfile.close()"
   ]
  },
  {
   "cell_type": "code",
   "execution_count": 9,
   "metadata": {},
   "outputs": [],
   "source": [
    "#S3 bucket name\n",
    "bucket = 'dev-data-logger-lake.geonet.org.nz'\n",
    "\n",
    "#folder for downloaded daily CSV files\n",
    "dltmp = '/home/sherburn/GeoNet/datalogger/auto_download/tmp'\n",
    "#top folder to save final CSV files\n",
    "dlsav = '/home/sherburn/GeoNet/datalogger/auto_download'\n",
    "\n",
    "#temporary file, concatenated but with daily headers\n",
    "tmpfile = os.path.join(dlsav, 'tmpfile.csv')\n",
    "\n",
    "#list of loggers to download data from\n",
    "loggers = ['infernocratertest', 'lowertemaari', 'foxglacierlandslide']"
   ]
  },
  {
   "cell_type": "code",
   "execution_count": 10,
   "metadata": {},
   "outputs": [],
   "source": [
    "#date range for data\n",
    "date1 = '20190520'\n",
    "date2 = '20190522'"
   ]
  },
  {
   "cell_type": "code",
   "execution_count": 11,
   "metadata": {},
   "outputs": [],
   "source": [
    "#construct and format the range of dates\n",
    "dr = pd.date_range(date1, date2, freq='D', )\n",
    "dates = dr.map(lambda x: x.strftime('%Y/%m/%d'))"
   ]
  },
  {
   "cell_type": "code",
   "execution_count": 12,
   "metadata": {},
   "outputs": [
    {
     "name": "stdout",
     "output_type": "stream",
     "text": [
      "downloading from logger: infernocratertest\n",
      "downloading from logger: lowertemaari\n",
      "downloading from logger: foxglacierlandslide\n"
     ]
    }
   ],
   "source": [
    "#do the work\n",
    "\n",
    "s3 = boto3.client('s3')\n",
    "\n",
    "#loop for each logger \n",
    "for logger in loggers:\n",
    "    print ('downloading from logger:', logger)\n",
    "    \n",
    "    os.makedirs(dltmp, exist_ok=True) #make tmp directory for downloaded files\n",
    "    #loop for each date\n",
    "    for date in dates:\n",
    "        date2 = (datetime.strptime(date, '%Y/%m/%d')).strftime('%Y%m%d')\n",
    "        s3file = date+'/'+'logger-'+logger+'_Table1'+'_'+date2+'.csv'\n",
    "        savefile = 'logger-'+logger+'_Table1'+'_'+date2+'.csv'\n",
    "        try:\n",
    "            s3.download_file(bucket, s3file, os.path.join(dltmp, savefile))\n",
    "        except:\n",
    "            pass\n",
    "\n",
    "    #concat all files for the logger\n",
    "    concatfile = tmpfile\n",
    "    files = glob.glob(os.path.join(dltmp, '*.csv'))\n",
    "    files.sort() #to get data in time order\n",
    "    with open(concatfile, 'w') as outfile:\n",
    "        for file in files:\n",
    "            with open(file, 'r') as readfile:\n",
    "                shutil.copyfileobj(readfile, outfile)\n",
    "\n",
    "    shutil.rmtree(dltmp)#remove tmp directory for downloaded files\n",
    "    \n",
    "    #remove unwanted header lines from temporary file\n",
    "    completefile = os.path.join(dlsav, logger, logger+'_Table1.csv')\n",
    "    remove_duplines(tmpfile, completefile)\n",
    "    #remove temporary file\n",
    "    os.remove(tmpfile)"
   ]
  }
 ],
 "metadata": {
  "kernelspec": {
   "display_name": "Python 3",
   "language": "python",
   "name": "python3"
  },
  "language_info": {
   "codemirror_mode": {
    "name": "ipython",
    "version": 3
   },
   "file_extension": ".py",
   "mimetype": "text/x-python",
   "name": "python",
   "nbconvert_exporter": "python",
   "pygments_lexer": "ipython3",
   "version": "3.7.1"
  }
 },
 "nbformat": 4,
 "nbformat_minor": 2
}
