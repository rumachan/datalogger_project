{
 "cells": [
  {
   "cell_type": "code",
   "execution_count": null,
   "metadata": {},
   "outputs": [],
   "source": [
    "from IPython.core.display import display, HTML\n",
    "display(HTML(\"<style>.container { width:100% !important; }</style>\"))"
   ]
  },
  {
   "cell_type": "code",
   "execution_count": null,
   "metadata": {},
   "outputs": [],
   "source": [
    "%%javascript\n",
    "IPython.OutputArea.prototype._should_scroll = function(lines) {\n",
    "    return false;\n",
    "}"
   ]
  },
  {
   "cell_type": "markdown",
   "metadata": {},
   "source": [
    "Check data retrieved from a test data logger installed in the field\n",
    "--"
   ]
  },
  {
   "cell_type": "code",
   "execution_count": null,
   "metadata": {},
   "outputs": [],
   "source": [
    "import pandas as pd\n",
    "import matplotlib.pyplot as plt\n",
    "import numpy as np"
   ]
  },
  {
   "cell_type": "markdown",
   "metadata": {},
   "source": [
    "**This cell is site specific**"
   ]
  },
  {
   "cell_type": "code",
   "execution_count": null,
   "metadata": {},
   "outputs": [],
   "source": [
    "# directory = './LowerTeMaari/'\n",
    "# csvfile = 'Table1.csv'\n",
    "# loggerfile = directory+csvfile\n",
    "# dtstart = '2018-08-10T00:20:00'\n",
    "\n",
    "# directory = './UpperTeMaari/'\n",
    "# csvfile = 'Table1.csv'\n",
    "# loggerfile = directory+csvfile\n",
    "# dtstart = '2018-10-08T23:50:00'\n",
    "\n",
    "# directory = './Inferno/'\n",
    "# csvfile = 'Table1.csv'\n",
    "# loggerfile = directory+csvfile\n",
    "# dtstart = '2017-12-06T00:30:00'\n",
    "\n",
    "# directory = './RuapehuCraterLake/'\n",
    "# csvfile = 'Table1.csv'\n",
    "# loggerfile = directory+csvfile\n",
    "# dtstart = '2018-05-04T04:00:00'\n",
    "\n",
    "# directory = './Fumarole13/'\n",
    "# csvfile = 'Table1.csv'\n",
    "# loggerfile = directory+csvfile\n",
    "# dtstart = '2017-12-06T00:30:00'\n",
    "\n",
    "directory = './FoxLandslide/'\n",
    "csvfile = 'Table1.csv'\n",
    "loggerfile = directory+csvfile\n",
    "dtstart = '2019-02-06T01:10:00'"
   ]
  },
  {
   "cell_type": "markdown",
   "metadata": {},
   "source": [
    "**Read data**"
   ]
  },
  {
   "cell_type": "code",
   "execution_count": null,
   "metadata": {},
   "outputs": [],
   "source": [
    "df = pd.read_csv(loggerfile, parse_dates=True, index_col = 'Datetime')\n",
    "\n",
    "#Use only data after logger was installed\n",
    "data = df[df.index>=dtstart]"
   ]
  },
  {
   "cell_type": "code",
   "execution_count": null,
   "metadata": {
    "scrolled": true
   },
   "outputs": [],
   "source": [
    "data.tail()"
   ]
  },
  {
   "cell_type": "markdown",
   "metadata": {},
   "source": [
    "**Voltages**"
   ]
  },
  {
   "cell_type": "code",
   "execution_count": null,
   "metadata": {
    "scrolled": true
   },
   "outputs": [],
   "source": [
    "vol = data['SupplyVolts'].plot(figsize=(20,7), title='Supply Voltage', label='supply volts', fontsize=12)\n",
    "#data['LithiumVolts'].plot(ax=vol, label='lithium volts')\n",
    "vol.title.set_size(20)\n",
    "vol.grid()\n",
    "vol.set_ylim(11,15)\n",
    "# vol.set_ylabel(\"Voltage\")\n",
    "# vol.legend(loc='best')"
   ]
  },
  {
   "cell_type": "code",
   "execution_count": null,
   "metadata": {},
   "outputs": [],
   "source": [
    "fig = vol.get_figure()\n",
    "fig.savefig(directory+'field_logger_voltage.png', dpi=100, bbox_inches='tight')"
   ]
  },
  {
   "cell_type": "markdown",
   "metadata": {},
   "source": [
    "**Temperatures**"
   ]
  },
  {
   "cell_type": "code",
   "execution_count": null,
   "metadata": {},
   "outputs": [],
   "source": [
    "if directory == './Fumarole13/':\n",
    "    fig,(ax0,ax1,ax2) = plt.subplots(3, 1, figsize=(20,7))\n",
    "    plt.subplots_adjust(wspace=0.5, hspace=0.5)\n",
    "\n",
    "    data['Temp_PRT1_degC'].plot(ax=ax0, title='Observation Temperature 1')\n",
    "    ax0.title.set_size(20)\n",
    "    ax0.grid()\n",
    "    ax0.set_ylabel('Temperature (deg C)')\n",
    "    ax0.set_xlabel('')\n",
    "    \n",
    "    data['Temp_PRT2_degC'].plot(ax=ax1, title='Observation Temperature 2')\n",
    "    ax1.title.set_size(20)\n",
    "    ax1.grid()\n",
    "    ax1.set_ylabel('Temperature (deg C)')\n",
    "    ax1.set_xlabel('')\n",
    "\n",
    "    data['PTemp_degC'].plot(ax=ax2, title='Box Temperature', label='box')\n",
    "    ax2.title.set_size(20)\n",
    "    ax2.grid()\n",
    "    ax2.set_ylabel('Temperature (deg C)')\n",
    "    ax2.set_xlabel('')\n",
    "    \n",
    "    data['Temp_thermocouple_degC'].plot(ax=ax2, label='co-located thermocouple')\n",
    "    ax2.legend(loc='best')\n",
    "    \n",
    "elif directory == './UpperTeMaari/':\n",
    "    fig,(ax0,ax1,ax2) = plt.subplots(3, 1, figsize=(20,7))\n",
    "    plt.subplots_adjust(wspace=0.5, hspace=0.5)\n",
    "\n",
    "    data['Temp_PRT1_degC'].plot(ax=ax0, title='Temperature Eastern Feature')\n",
    "    ax0.title.set_size(20)\n",
    "    ax0.grid()\n",
    "    ax0.set_ylabel('Temperature (deg C)')\n",
    "    ax0.set_xlabel('')\n",
    "    \n",
    "    data['Temp_PRT2_degC'].plot(ax=ax1, title='Temperature Southern Feature', label='PRT')\n",
    "    ax1.title.set_size(20)\n",
    "    ax1.grid()\n",
    "    ax1.set_ylabel('Temperature (deg C)')\n",
    "        \n",
    "    data['Temp_thermocouple1_degC'].plot(ax=ax1, label='HiT thermocouple')\n",
    "    ax1.legend(loc='best')\n",
    "    ax1.set_xlabel('')\n",
    "\n",
    "    data['PTemp_degC'].plot(ax=ax2, title='Box Temperature')\n",
    "    ax2.title.set_size(20)\n",
    "    ax2.grid()\n",
    "    ax2.set_ylabel('Temperature (deg C)')\n",
    "    ax2.set_xlabel('')     \n",
    "    \n",
    "elif directory == './FoxLandslide/':\n",
    "    fig,(ax0) = plt.subplots(1, 1, figsize=(20,3.5))\n",
    "    plt.subplots_adjust(wspace=0.5, hspace=0.5)\n",
    "\n",
    "    data['PTemp_degC'].plot(ax=ax0, title='Box Temperature')\n",
    "    ax0.title.set_size(20)\n",
    "    ax0.grid()\n",
    "    ax0.set_ylabel('Temperature (deg C)')\n",
    "    ax0.set_xlabel('')\n",
    "    \n",
    "else:\n",
    "    fig,(ax0,ax1) = plt.subplots(2, 1, figsize=(20,7))\n",
    "    plt.subplots_adjust(wspace=0.5, hspace=0.5)\n",
    "\n",
    "    data['Temp_PRT_degC'].plot(ax=ax0, title='Observation Temperature')\n",
    "    ax0.title.set_size(20)\n",
    "    ax0.grid()\n",
    "    ax0.set_ylabel('Temperature (deg C)')\n",
    "    ax0.set_xlabel('')\n",
    "\n",
    "    data['PTemp_degC'].plot(ax=ax1, title='Box Temperature')\n",
    "    ax1.title.set_size(20)\n",
    "    ax1.grid()\n",
    "    ax1.set_ylabel('Temperature (deg C)')\n",
    "    ax1.set_xlabel('');\n",
    "\n",
    "fig.savefig(directory+'field_logger_temperature.png', dpi=100, bbox_inches='tight')"
   ]
  },
  {
   "cell_type": "markdown",
   "metadata": {},
   "source": [
    "**Depth**"
   ]
  },
  {
   "cell_type": "code",
   "execution_count": null,
   "metadata": {},
   "outputs": [],
   "source": [
    "if (directory == './Inferno/' or directory == './RuapehuCraterLake/'):\n",
    "    dep = data['Depth_USGS_OTT_meters'].plot(figsize=(20,7), title='Water Depth Above Sensor',fontsize=12)\n",
    "    dep.title.set_size(20)\n",
    "    dep.grid()\n",
    "    dep.set_ylabel(\"Depth (m)\")\n",
    "\n",
    "    fig = dep.get_figure()\n",
    "    fig.savefig(directory+'field_logger_depth.png', dpi=100, bbox_inches='tight')"
   ]
  },
  {
   "cell_type": "code",
   "execution_count": null,
   "metadata": {},
   "outputs": [],
   "source": [
    "if directory == './Inferno/':\n",
    "    data[data['Depth_USGS_OTT_meters']>12]"
   ]
  },
  {
   "cell_type": "markdown",
   "metadata": {},
   "source": [
    "**Rainfall**"
   ]
  },
  {
   "cell_type": "code",
   "execution_count": null,
   "metadata": {
    "scrolled": true
   },
   "outputs": [],
   "source": [
    "if (directory == './FoxLandslide/'):\n",
    "    fig,(ax0,ax1) = plt.subplots(2, 1, figsize=(20,7))\n",
    "    plt.subplots_adjust(wspace=0.5, hspace=0.5)\n",
    "\n",
    "    ax0.vlines(data.index, ymax=data['Rain1_mm_Tot'], ymin=0, color='blue')\n",
    "    ax0.set_ylabel('Rainfall (mm)')\n",
    "    ax0.set_title('Rainfall Sensor 1')\n",
    "    ax0.title.set_size(20)\n",
    "    ax0.grid()\n",
    "\n",
    "    ax1.vlines(data.index, ymax=data['Rain2_mm_Tot'], ymin=0, color='blue')\n",
    "    ax1.set_ylabel('Rainfall (mm)')\n",
    "    ax1.set_title('Rainfall Sensor 2')\n",
    "    ax1.title.set_size(20)\n",
    "    ax1.grid()\n",
    "\n",
    "    fig.savefig(directory+'field_logger_rain.png', dpi=100, bbox_inches='tight')"
   ]
  },
  {
   "cell_type": "markdown",
   "metadata": {},
   "source": [
    "**Position**"
   ]
  },
  {
   "cell_type": "code",
   "execution_count": null,
   "metadata": {},
   "outputs": [],
   "source": [
    "if (directory == './FoxLandslide/'):\n",
    "    colors = np.arange(data.shape[0])\n",
    "    \n",
    "    data['longitude'] = data['longitude_a'] + data['longitude_b']/60\n",
    "    data['latitude'] = data['latitude_a'] + data['latitude_b']/60\n",
    "    \n",
    "    fig = plt.figure(figsize=(10,10))\n",
    "#     plt.plot(data['longitude'], data['latitude'], marker='None', color ='gray', alpha=0.2)\n",
    "    plt.scatter(data['longitude'], data['latitude'], c=colors, edgecolors='None', s=5, cmap='cool')\n",
    "    plt.colorbar(label='Data point order')\n",
    "\n",
    "    plt.title('Apparent Position')\n",
    "    plt.xlabel('Longitude (deg)')\n",
    "    plt.ylabel('Latitude (deg)')\n",
    "    \n",
    "    plt.xlim(170.046, 170.052)\n",
    "    plt.ylim(-43.517, -43.519)\n",
    "\n",
    "    fig.savefig(directory+'field_logger_position.png', dpi=100, bbox_inches='tight')"
   ]
  }
 ],
 "metadata": {
  "kernelspec": {
   "display_name": "Python 3",
   "language": "python",
   "name": "python3"
  },
  "language_info": {
   "codemirror_mode": {
    "name": "ipython",
    "version": 3
   },
   "file_extension": ".py",
   "mimetype": "text/x-python",
   "name": "python",
   "nbconvert_exporter": "python",
   "pygments_lexer": "ipython3",
   "version": "3.6.7"
  }
 },
 "nbformat": 4,
 "nbformat_minor": 2
}
