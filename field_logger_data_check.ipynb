{
 "cells": [
  {
   "cell_type": "code",
   "execution_count": null,
   "metadata": {},
   "outputs": [],
   "source": [
    "%%javascript\n",
    "IPython.OutputArea.prototype._should_scroll = function(lines) {\n",
    "    return false;\n",
    "}"
   ]
  },
  {
   "cell_type": "markdown",
   "metadata": {},
   "source": [
    "Check data retrieved from a test data logger installed in the field\n",
    "--"
   ]
  },
  {
   "cell_type": "code",
   "execution_count": null,
   "metadata": {
    "collapsed": true
   },
   "outputs": [],
   "source": [
    "import pandas as pd\n",
    "%matplotlib inline"
   ]
  },
  {
   "cell_type": "markdown",
   "metadata": {},
   "source": [
    "**This cell is site specific**"
   ]
  },
  {
   "cell_type": "code",
   "execution_count": null,
   "metadata": {
    "collapsed": true
   },
   "outputs": [],
   "source": [
    "# directory = './Inferno/'\n",
    "# csvfile = 'Table1.csv'\n",
    "# loggerfile = directory+csvfile\n",
    "# dtstart = '2017-12-06T00:30:00'\n",
    "\n",
    "directory = './RuapehuCraterLake/'\n",
    "csvfile = 'Table1.csv'\n",
    "loggerfile = directory+csvfile\n",
    "dtstart = '2018-05-04T04:00:00'"
   ]
  },
  {
   "cell_type": "markdown",
   "metadata": {},
   "source": [
    "**Read data**"
   ]
  },
  {
   "cell_type": "code",
   "execution_count": null,
   "metadata": {
    "collapsed": true
   },
   "outputs": [],
   "source": [
    "df = pd.read_csv(loggerfile, parse_dates=True, index_col = 'Datetime')\n",
    "\n",
    "#Use only data after logger was installed\n",
    "data = df[df.index>=dtstart]"
   ]
  },
  {
   "cell_type": "code",
   "execution_count": null,
   "metadata": {
    "scrolled": true
   },
   "outputs": [],
   "source": [
    "data.tail()"
   ]
  },
  {
   "cell_type": "markdown",
   "metadata": {},
   "source": [
    "**Voltages**"
   ]
  },
  {
   "cell_type": "code",
   "execution_count": null,
   "metadata": {
    "scrolled": true
   },
   "outputs": [],
   "source": [
    "vol = data['SupplyVolts'].plot(figsize=(20,7), title='Voltages', label='supply volts', fontsize=12)\n",
    "#data['LithiumVolts'].plot(ax=vol, label='lithium volts')\n",
    "vol.title.set_size(20)\n",
    "vol.grid()\n",
    "vol.set_ylim(11,15)\n",
    "vol.set_ylabel(\"Voltage\")\n",
    "vol.legend(loc='best')"
   ]
  },
  {
   "cell_type": "code",
   "execution_count": null,
   "metadata": {
    "collapsed": true
   },
   "outputs": [],
   "source": [
    "fig = vol.get_figure()\n",
    "fig.savefig(directory+'field_logger_voltage.png', dpi=100, bbox_inches='tight')"
   ]
  },
  {
   "cell_type": "markdown",
   "metadata": {},
   "source": [
    "**Temperatures**"
   ]
  },
  {
   "cell_type": "code",
   "execution_count": null,
   "metadata": {},
   "outputs": [],
   "source": [
    "tmp = data['PTemp_degC'].plot(figsize=(20,7), title='Temperatures', label='box temperature', fontsize=12)\n",
    "data['Temp_PRT_degC'].plot(ax=tmp, label='water temp')\n",
    "tmp.title.set_size(20)\n",
    "tmp.grid()\n",
    "tmp.set_ylabel(\"Temperature (deg C)\")\n",
    "tmp.legend(loc='best')"
   ]
  },
  {
   "cell_type": "code",
   "execution_count": null,
   "metadata": {
    "collapsed": true
   },
   "outputs": [],
   "source": [
    "fig = tmp.get_figure()\n",
    "fig.savefig(directory+'field_logger_temperature.png', dpi=100, bbox_inches='tight')"
   ]
  },
  {
   "cell_type": "markdown",
   "metadata": {},
   "source": [
    "**Depth**"
   ]
  },
  {
   "cell_type": "code",
   "execution_count": null,
   "metadata": {},
   "outputs": [],
   "source": [
    "dep = data['Depth_USGS_OTT_meters'].plot(figsize=(20,7), title='Water Depth Above Sensor',fontsize=12)\n",
    "dep.title.set_size(20)\n",
    "dep.grid()\n",
    "dep.set_ylabel(\"Depth (m)\")"
   ]
  },
  {
   "cell_type": "code",
   "execution_count": null,
   "metadata": {
    "collapsed": true
   },
   "outputs": [],
   "source": [
    "fig = dep.get_figure()\n",
    "fig.savefig(directory+'field_logger_depth.png', dpi=100, bbox_inches='tight')"
   ]
  },
  {
   "cell_type": "code",
   "execution_count": null,
   "metadata": {},
   "outputs": [],
   "source": [
    "data[data['Depth_USGS_OTT_meters']>12]"
   ]
  }
 ],
 "metadata": {
  "kernelspec": {
   "display_name": "Python 2",
   "language": "python",
   "name": "python2"
  },
  "language_info": {
   "codemirror_mode": {
    "name": "ipython",
    "version": 2
   },
   "file_extension": ".py",
   "mimetype": "text/x-python",
   "name": "python",
   "nbconvert_exporter": "python",
   "pygments_lexer": "ipython2",
   "version": "2.7.12"
  }
 },
 "nbformat": 4,
 "nbformat_minor": 2
}
